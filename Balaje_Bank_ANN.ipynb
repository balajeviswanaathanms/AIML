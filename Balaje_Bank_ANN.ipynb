{
  "nbformat": 4,
  "nbformat_minor": 0,
  "metadata": {
    "colab": {
      "name": "Balaje_Bank_ANN.ipynb",
      "version": "0.3.2",
      "provenance": [],
      "toc_visible": true,
      "include_colab_link": true
    },
    "kernelspec": {
      "display_name": "Python 3",
      "language": "python",
      "name": "python3"
    }
  },
  "cells": [
    {
      "cell_type": "markdown",
      "metadata": {
        "id": "view-in-github",
        "colab_type": "text"
      },
      "source": [
        "<a href=\"https://colab.research.google.com/github/balajeviswanaathanms/AIML/blob/master/Balaje_Bank_ANN.ipynb\" target=\"_parent\"><img src=\"https://colab.research.google.com/assets/colab-badge.svg\" alt=\"Open In Colab\"/></a>"
      ]
    },
    {
      "metadata": {
        "_uuid": "8f2839f25d086af736a60e9eeb907d3b93b6e0e5",
        "_cell_guid": "b1076dfc-b9ad-4769-8c92-a6c4dae69d19",
        "trusted": true,
        "id": "1oDJO9Lx0_9e",
        "colab_type": "code",
        "colab": {
          "base_uri": "https://localhost:8080/",
          "height": 231
        },
        "outputId": "67d6b74e-220a-4051-e3de-e031b505c94a"
      },
      "cell_type": "code",
      "source": [
        "# This Python 3 environment comes with many helpful analytics libraries installed\n",
        "# It is defined by the kaggle/python docker image: https://github.com/kaggle/docker-python\n",
        "# For example, here's several helpful packages to load in \n",
        "\n",
        "import numpy as np # linear algebra\n",
        "import pandas as pd # data processing, CSV file I/O (e.g. pd.read_csv)\n",
        "\n",
        "# Input data files are available in the \"../input/\" directory.\n",
        "# For example, running this (by clicking run or pressing Shift+Enter) will list the files in the input directory\n",
        "\n",
        "import os\n",
        "print(os.listdir(\"input\"))\n",
        "\n",
        "# Any results you write to the current directory are saved as output.\n",
        "#set the array presision \n",
        "np.set_printoptions(precision=2)\n",
        "np.set_printoptions(suppress=True)"
      ],
      "execution_count": 7,
      "outputs": [
        {
          "output_type": "error",
          "ename": "FileNotFoundError",
          "evalue": "ignored",
          "traceback": [
            "\u001b[0;31m---------------------------------------------------------------------------\u001b[0m",
            "\u001b[0;31mFileNotFoundError\u001b[0m                         Traceback (most recent call last)",
            "\u001b[0;32m<ipython-input-7-ba12c81fef5f>\u001b[0m in \u001b[0;36m<module>\u001b[0;34m()\u001b[0m\n\u001b[1;32m      7\u001b[0m \u001b[0;34m\u001b[0m\u001b[0m\n\u001b[1;32m      8\u001b[0m \u001b[0;32mimport\u001b[0m \u001b[0mos\u001b[0m\u001b[0;34m\u001b[0m\u001b[0;34m\u001b[0m\u001b[0m\n\u001b[0;32m----> 9\u001b[0;31m \u001b[0mprint\u001b[0m\u001b[0;34m(\u001b[0m\u001b[0mos\u001b[0m\u001b[0;34m.\u001b[0m\u001b[0mlistdir\u001b[0m\u001b[0;34m(\u001b[0m\u001b[0;34m\"input\"\u001b[0m\u001b[0;34m)\u001b[0m\u001b[0;34m)\u001b[0m\u001b[0;34m\u001b[0m\u001b[0;34m\u001b[0m\u001b[0m\n\u001b[0m\u001b[1;32m     10\u001b[0m \u001b[0;34m\u001b[0m\u001b[0m\n\u001b[1;32m     11\u001b[0m \u001b[0;31m# Any results you write to the current directory are saved as output.\u001b[0m\u001b[0;34m\u001b[0m\u001b[0;34m\u001b[0m\u001b[0;34m\u001b[0m\u001b[0m\n",
            "\u001b[0;31mFileNotFoundError\u001b[0m: [Errno 2] No such file or directory: 'input'"
          ]
        }
      ]
    },
    {
      "metadata": {
        "id": "VAyhPBpx1y4L",
        "colab_type": "text"
      },
      "cell_type": "markdown",
      "source": [
        "# New Section"
      ]
    },
    {
      "metadata": {
        "id": "mNPHY7we1zwW",
        "colab_type": "text"
      },
      "cell_type": "markdown",
      "source": [
        "# New Section"
      ]
    },
    {
      "metadata": {
        "_cell_guid": "79c7e3d0-c299-4dcb-8224-4455121ee9b0",
        "_uuid": "d629ff2d2480ee46fbb7e2d37f6b5fab8052498a",
        "trusted": true,
        "id": "MYbOSJVb0_9p",
        "colab_type": "code",
        "colab": {
          "base_uri": "https://localhost:8080/",
          "height": 224
        },
        "outputId": "6f19f836-8d7d-466e-d9fe-33a88ed655e9"
      },
      "cell_type": "code",
      "source": [
        "#Read the dataset\n",
        "# Now it's time to import the file and check your informations.\n",
        "\n",
        "dataset = pd.read_csv('bank.csv')\n",
        "\n",
        "dataset.head()"
      ],
      "execution_count": 5,
      "outputs": [
        {
          "output_type": "execute_result",
          "data": {
            "text/html": [
              "<div>\n",
              "<style scoped>\n",
              "    .dataframe tbody tr th:only-of-type {\n",
              "        vertical-align: middle;\n",
              "    }\n",
              "\n",
              "    .dataframe tbody tr th {\n",
              "        vertical-align: top;\n",
              "    }\n",
              "\n",
              "    .dataframe thead th {\n",
              "        text-align: right;\n",
              "    }\n",
              "</style>\n",
              "<table border=\"1\" class=\"dataframe\">\n",
              "  <thead>\n",
              "    <tr style=\"text-align: right;\">\n",
              "      <th></th>\n",
              "      <th>RowNumber</th>\n",
              "      <th>CustomerId</th>\n",
              "      <th>Surname</th>\n",
              "      <th>CreditScore</th>\n",
              "      <th>Geography</th>\n",
              "      <th>Gender</th>\n",
              "      <th>Age</th>\n",
              "      <th>Tenure</th>\n",
              "      <th>Balance</th>\n",
              "      <th>NumOfProducts</th>\n",
              "      <th>HasCrCard</th>\n",
              "      <th>IsActiveMember</th>\n",
              "      <th>EstimatedSalary</th>\n",
              "      <th>Exited</th>\n",
              "    </tr>\n",
              "  </thead>\n",
              "  <tbody>\n",
              "    <tr>\n",
              "      <th>0</th>\n",
              "      <td>1</td>\n",
              "      <td>15634602</td>\n",
              "      <td>Hargrave</td>\n",
              "      <td>619</td>\n",
              "      <td>France</td>\n",
              "      <td>Female</td>\n",
              "      <td>42</td>\n",
              "      <td>2</td>\n",
              "      <td>0.00</td>\n",
              "      <td>1</td>\n",
              "      <td>1</td>\n",
              "      <td>1</td>\n",
              "      <td>101348.88</td>\n",
              "      <td>1</td>\n",
              "    </tr>\n",
              "    <tr>\n",
              "      <th>1</th>\n",
              "      <td>2</td>\n",
              "      <td>15647311</td>\n",
              "      <td>Hill</td>\n",
              "      <td>608</td>\n",
              "      <td>Spain</td>\n",
              "      <td>Female</td>\n",
              "      <td>41</td>\n",
              "      <td>1</td>\n",
              "      <td>83807.86</td>\n",
              "      <td>1</td>\n",
              "      <td>0</td>\n",
              "      <td>1</td>\n",
              "      <td>112542.58</td>\n",
              "      <td>0</td>\n",
              "    </tr>\n",
              "    <tr>\n",
              "      <th>2</th>\n",
              "      <td>3</td>\n",
              "      <td>15619304</td>\n",
              "      <td>Onio</td>\n",
              "      <td>502</td>\n",
              "      <td>France</td>\n",
              "      <td>Female</td>\n",
              "      <td>42</td>\n",
              "      <td>8</td>\n",
              "      <td>159660.80</td>\n",
              "      <td>3</td>\n",
              "      <td>1</td>\n",
              "      <td>0</td>\n",
              "      <td>113931.57</td>\n",
              "      <td>1</td>\n",
              "    </tr>\n",
              "    <tr>\n",
              "      <th>3</th>\n",
              "      <td>4</td>\n",
              "      <td>15701354</td>\n",
              "      <td>Boni</td>\n",
              "      <td>699</td>\n",
              "      <td>France</td>\n",
              "      <td>Female</td>\n",
              "      <td>39</td>\n",
              "      <td>1</td>\n",
              "      <td>0.00</td>\n",
              "      <td>2</td>\n",
              "      <td>0</td>\n",
              "      <td>0</td>\n",
              "      <td>93826.63</td>\n",
              "      <td>0</td>\n",
              "    </tr>\n",
              "    <tr>\n",
              "      <th>4</th>\n",
              "      <td>5</td>\n",
              "      <td>15737888</td>\n",
              "      <td>Mitchell</td>\n",
              "      <td>850</td>\n",
              "      <td>Spain</td>\n",
              "      <td>Female</td>\n",
              "      <td>43</td>\n",
              "      <td>2</td>\n",
              "      <td>125510.82</td>\n",
              "      <td>1</td>\n",
              "      <td>1</td>\n",
              "      <td>1</td>\n",
              "      <td>79084.10</td>\n",
              "      <td>0</td>\n",
              "    </tr>\n",
              "  </tbody>\n",
              "</table>\n",
              "</div>"
            ],
            "text/plain": [
              "   RowNumber  CustomerId   Surname  CreditScore Geography  Gender  Age  \\\n",
              "0          1    15634602  Hargrave          619    France  Female   42   \n",
              "1          2    15647311      Hill          608     Spain  Female   41   \n",
              "2          3    15619304      Onio          502    France  Female   42   \n",
              "3          4    15701354      Boni          699    France  Female   39   \n",
              "4          5    15737888  Mitchell          850     Spain  Female   43   \n",
              "\n",
              "   Tenure    Balance  NumOfProducts  HasCrCard  IsActiveMember  \\\n",
              "0       2       0.00              1          1               1   \n",
              "1       1   83807.86              1          0               1   \n",
              "2       8  159660.80              3          1               0   \n",
              "3       1       0.00              2          0               0   \n",
              "4       2  125510.82              1          1               1   \n",
              "\n",
              "   EstimatedSalary  Exited  \n",
              "0        101348.88       1  \n",
              "1        112542.58       0  \n",
              "2        113931.57       1  \n",
              "3         93826.63       0  \n",
              "4         79084.10       0  "
            ]
          },
          "metadata": {
            "tags": []
          },
          "execution_count": 5
        }
      ]
    },
    {
      "metadata": {
        "_uuid": "b17d8caf19a7c44b880cc5d5b49e38055d54abf1",
        "id": "SnrHHt2U0_91",
        "colab_type": "text"
      },
      "cell_type": "markdown",
      "source": [
        "#First 3 columns are unique value , so remving these columns \n"
      ]
    },
    {
      "metadata": {
        "trusted": true,
        "_uuid": "b826c28d7637a6504883528a3151605796987188",
        "id": "lvT2B1lV0_94",
        "colab_type": "code",
        "colab": {
          "base_uri": "https://localhost:8080/",
          "height": 224
        },
        "outputId": "5e7e49d4-92a7-463b-aba6-011d3f91b4ce"
      },
      "cell_type": "code",
      "source": [
        "dataset.shape\n",
        "dataset.head()"
      ],
      "execution_count": 8,
      "outputs": [
        {
          "output_type": "execute_result",
          "data": {
            "text/html": [
              "<div>\n",
              "<style scoped>\n",
              "    .dataframe tbody tr th:only-of-type {\n",
              "        vertical-align: middle;\n",
              "    }\n",
              "\n",
              "    .dataframe tbody tr th {\n",
              "        vertical-align: top;\n",
              "    }\n",
              "\n",
              "    .dataframe thead th {\n",
              "        text-align: right;\n",
              "    }\n",
              "</style>\n",
              "<table border=\"1\" class=\"dataframe\">\n",
              "  <thead>\n",
              "    <tr style=\"text-align: right;\">\n",
              "      <th></th>\n",
              "      <th>RowNumber</th>\n",
              "      <th>CustomerId</th>\n",
              "      <th>Surname</th>\n",
              "      <th>CreditScore</th>\n",
              "      <th>Geography</th>\n",
              "      <th>Gender</th>\n",
              "      <th>Age</th>\n",
              "      <th>Tenure</th>\n",
              "      <th>Balance</th>\n",
              "      <th>NumOfProducts</th>\n",
              "      <th>HasCrCard</th>\n",
              "      <th>IsActiveMember</th>\n",
              "      <th>EstimatedSalary</th>\n",
              "      <th>Exited</th>\n",
              "    </tr>\n",
              "  </thead>\n",
              "  <tbody>\n",
              "    <tr>\n",
              "      <th>0</th>\n",
              "      <td>1</td>\n",
              "      <td>15634602</td>\n",
              "      <td>Hargrave</td>\n",
              "      <td>619</td>\n",
              "      <td>France</td>\n",
              "      <td>Female</td>\n",
              "      <td>42</td>\n",
              "      <td>2</td>\n",
              "      <td>0.00</td>\n",
              "      <td>1</td>\n",
              "      <td>1</td>\n",
              "      <td>1</td>\n",
              "      <td>101348.88</td>\n",
              "      <td>1</td>\n",
              "    </tr>\n",
              "    <tr>\n",
              "      <th>1</th>\n",
              "      <td>2</td>\n",
              "      <td>15647311</td>\n",
              "      <td>Hill</td>\n",
              "      <td>608</td>\n",
              "      <td>Spain</td>\n",
              "      <td>Female</td>\n",
              "      <td>41</td>\n",
              "      <td>1</td>\n",
              "      <td>83807.86</td>\n",
              "      <td>1</td>\n",
              "      <td>0</td>\n",
              "      <td>1</td>\n",
              "      <td>112542.58</td>\n",
              "      <td>0</td>\n",
              "    </tr>\n",
              "    <tr>\n",
              "      <th>2</th>\n",
              "      <td>3</td>\n",
              "      <td>15619304</td>\n",
              "      <td>Onio</td>\n",
              "      <td>502</td>\n",
              "      <td>France</td>\n",
              "      <td>Female</td>\n",
              "      <td>42</td>\n",
              "      <td>8</td>\n",
              "      <td>159660.80</td>\n",
              "      <td>3</td>\n",
              "      <td>1</td>\n",
              "      <td>0</td>\n",
              "      <td>113931.57</td>\n",
              "      <td>1</td>\n",
              "    </tr>\n",
              "    <tr>\n",
              "      <th>3</th>\n",
              "      <td>4</td>\n",
              "      <td>15701354</td>\n",
              "      <td>Boni</td>\n",
              "      <td>699</td>\n",
              "      <td>France</td>\n",
              "      <td>Female</td>\n",
              "      <td>39</td>\n",
              "      <td>1</td>\n",
              "      <td>0.00</td>\n",
              "      <td>2</td>\n",
              "      <td>0</td>\n",
              "      <td>0</td>\n",
              "      <td>93826.63</td>\n",
              "      <td>0</td>\n",
              "    </tr>\n",
              "    <tr>\n",
              "      <th>4</th>\n",
              "      <td>5</td>\n",
              "      <td>15737888</td>\n",
              "      <td>Mitchell</td>\n",
              "      <td>850</td>\n",
              "      <td>Spain</td>\n",
              "      <td>Female</td>\n",
              "      <td>43</td>\n",
              "      <td>2</td>\n",
              "      <td>125510.82</td>\n",
              "      <td>1</td>\n",
              "      <td>1</td>\n",
              "      <td>1</td>\n",
              "      <td>79084.10</td>\n",
              "      <td>0</td>\n",
              "    </tr>\n",
              "  </tbody>\n",
              "</table>\n",
              "</div>"
            ],
            "text/plain": [
              "   RowNumber  CustomerId   Surname  CreditScore Geography  Gender  Age  \\\n",
              "0          1    15634602  Hargrave          619    France  Female   42   \n",
              "1          2    15647311      Hill          608     Spain  Female   41   \n",
              "2          3    15619304      Onio          502    France  Female   42   \n",
              "3          4    15701354      Boni          699    France  Female   39   \n",
              "4          5    15737888  Mitchell          850     Spain  Female   43   \n",
              "\n",
              "   Tenure    Balance  NumOfProducts  HasCrCard  IsActiveMember  \\\n",
              "0       2       0.00              1          1               1   \n",
              "1       1   83807.86              1          0               1   \n",
              "2       8  159660.80              3          1               0   \n",
              "3       1       0.00              2          0               0   \n",
              "4       2  125510.82              1          1               1   \n",
              "\n",
              "   EstimatedSalary  Exited  \n",
              "0        101348.88       1  \n",
              "1        112542.58       0  \n",
              "2        113931.57       1  \n",
              "3         93826.63       0  \n",
              "4         79084.10       0  "
            ]
          },
          "metadata": {
            "tags": []
          },
          "execution_count": 8
        }
      ]
    },
    {
      "metadata": {
        "trusted": true,
        "_uuid": "1b959250bc5034b57984f272bc580f054f36e222",
        "id": "tclsGyAy0_99",
        "colab_type": "code",
        "colab": {}
      },
      "cell_type": "code",
      "source": [
        "#Drop the columns which are unique for all users like IDs (2.5 points)\n",
        "x=dataset.iloc[:,3:13]\n",
        "y=dataset.iloc[:,13]"
      ],
      "execution_count": 0,
      "outputs": []
    },
    {
      "metadata": {
        "trusted": true,
        "_uuid": "ace44cdaacec87c62958656e8213527838cc8adc",
        "id": "2kh_xZR50_-A",
        "colab_type": "code",
        "colab": {},
        "outputId": "264598ec-375f-4185-df07-15a20b8c02e5"
      },
      "cell_type": "code",
      "source": [
        "x.head()"
      ],
      "execution_count": 0,
      "outputs": [
        {
          "output_type": "execute_result",
          "data": {
            "text/plain": [
              "   CreditScore Geography       ...        IsActiveMember  EstimatedSalary\n",
              "0          619    France       ...                     1        101348.88\n",
              "1          608     Spain       ...                     1        112542.58\n",
              "2          502    France       ...                     0        113931.57\n",
              "3          699    France       ...                     0         93826.63\n",
              "4          850     Spain       ...                     1         79084.10\n",
              "\n",
              "[5 rows x 10 columns]"
            ],
            "text/html": [
              "<div>\n",
              "<style scoped>\n",
              "    .dataframe tbody tr th:only-of-type {\n",
              "        vertical-align: middle;\n",
              "    }\n",
              "\n",
              "    .dataframe tbody tr th {\n",
              "        vertical-align: top;\n",
              "    }\n",
              "\n",
              "    .dataframe thead th {\n",
              "        text-align: right;\n",
              "    }\n",
              "</style>\n",
              "<table border=\"1\" class=\"dataframe\">\n",
              "  <thead>\n",
              "    <tr style=\"text-align: right;\">\n",
              "      <th></th>\n",
              "      <th>CreditScore</th>\n",
              "      <th>Geography</th>\n",
              "      <th>Gender</th>\n",
              "      <th>Age</th>\n",
              "      <th>Tenure</th>\n",
              "      <th>Balance</th>\n",
              "      <th>NumOfProducts</th>\n",
              "      <th>HasCrCard</th>\n",
              "      <th>IsActiveMember</th>\n",
              "      <th>EstimatedSalary</th>\n",
              "    </tr>\n",
              "  </thead>\n",
              "  <tbody>\n",
              "    <tr>\n",
              "      <th>0</th>\n",
              "      <td>619</td>\n",
              "      <td>France</td>\n",
              "      <td>Female</td>\n",
              "      <td>42</td>\n",
              "      <td>2</td>\n",
              "      <td>0.00</td>\n",
              "      <td>1</td>\n",
              "      <td>1</td>\n",
              "      <td>1</td>\n",
              "      <td>101348.88</td>\n",
              "    </tr>\n",
              "    <tr>\n",
              "      <th>1</th>\n",
              "      <td>608</td>\n",
              "      <td>Spain</td>\n",
              "      <td>Female</td>\n",
              "      <td>41</td>\n",
              "      <td>1</td>\n",
              "      <td>83807.86</td>\n",
              "      <td>1</td>\n",
              "      <td>0</td>\n",
              "      <td>1</td>\n",
              "      <td>112542.58</td>\n",
              "    </tr>\n",
              "    <tr>\n",
              "      <th>2</th>\n",
              "      <td>502</td>\n",
              "      <td>France</td>\n",
              "      <td>Female</td>\n",
              "      <td>42</td>\n",
              "      <td>8</td>\n",
              "      <td>159660.80</td>\n",
              "      <td>3</td>\n",
              "      <td>1</td>\n",
              "      <td>0</td>\n",
              "      <td>113931.57</td>\n",
              "    </tr>\n",
              "    <tr>\n",
              "      <th>3</th>\n",
              "      <td>699</td>\n",
              "      <td>France</td>\n",
              "      <td>Female</td>\n",
              "      <td>39</td>\n",
              "      <td>1</td>\n",
              "      <td>0.00</td>\n",
              "      <td>2</td>\n",
              "      <td>0</td>\n",
              "      <td>0</td>\n",
              "      <td>93826.63</td>\n",
              "    </tr>\n",
              "    <tr>\n",
              "      <th>4</th>\n",
              "      <td>850</td>\n",
              "      <td>Spain</td>\n",
              "      <td>Female</td>\n",
              "      <td>43</td>\n",
              "      <td>2</td>\n",
              "      <td>125510.82</td>\n",
              "      <td>1</td>\n",
              "      <td>1</td>\n",
              "      <td>1</td>\n",
              "      <td>79084.10</td>\n",
              "    </tr>\n",
              "  </tbody>\n",
              "</table>\n",
              "</div>"
            ]
          },
          "metadata": {
            "tags": []
          },
          "execution_count": 183
        }
      ]
    },
    {
      "metadata": {
        "trusted": true,
        "_uuid": "4e6a7abfce0e94735c6c055bfb56274ca99f287f",
        "id": "TgH6MZsx0_-F",
        "colab_type": "code",
        "colab": {
          "base_uri": "https://localhost:8080/",
          "height": 34
        },
        "outputId": "3a04856a-78d8-4431-dff7-cabf1b7aaf37"
      },
      "cell_type": "code",
      "source": [
        "type(x)"
      ],
      "execution_count": 10,
      "outputs": [
        {
          "output_type": "execute_result",
          "data": {
            "text/plain": [
              "pandas.core.frame.DataFrame"
            ]
          },
          "metadata": {
            "tags": []
          },
          "execution_count": 10
        }
      ]
    },
    {
      "metadata": {
        "trusted": true,
        "_uuid": "f9f0d814b94d6e4b73e1b1f621db134de27f24a8",
        "id": "D3ZqJzFu0_-L",
        "colab_type": "code",
        "colab": {
          "base_uri": "https://localhost:8080/",
          "height": 272
        },
        "outputId": "80e167eb-836d-4faf-913b-73747f5dc81d"
      },
      "cell_type": "code",
      "source": [
        "x.info() "
      ],
      "execution_count": 11,
      "outputs": [
        {
          "output_type": "stream",
          "text": [
            "<class 'pandas.core.frame.DataFrame'>\n",
            "RangeIndex: 10000 entries, 0 to 9999\n",
            "Data columns (total 10 columns):\n",
            "CreditScore        10000 non-null int64\n",
            "Geography          10000 non-null object\n",
            "Gender             10000 non-null object\n",
            "Age                10000 non-null int64\n",
            "Tenure             10000 non-null int64\n",
            "Balance            10000 non-null float64\n",
            "NumOfProducts      10000 non-null int64\n",
            "HasCrCard          10000 non-null int64\n",
            "IsActiveMember     10000 non-null int64\n",
            "EstimatedSalary    10000 non-null float64\n",
            "dtypes: float64(2), int64(6), object(2)\n",
            "memory usage: 781.3+ KB\n"
          ],
          "name": "stdout"
        }
      ]
    },
    {
      "metadata": {
        "trusted": true,
        "_uuid": "7feb3ded591ee434704dd05d9acd44ea2e105d5d",
        "id": "VCqA35uv0_-Q",
        "colab_type": "code",
        "colab": {
          "base_uri": "https://localhost:8080/",
          "height": 119
        },
        "outputId": "f7dda5be-7ab4-466b-cc17-cce4bbd89183"
      },
      "cell_type": "code",
      "source": [
        "x.iloc[:, 1].head()"
      ],
      "execution_count": 12,
      "outputs": [
        {
          "output_type": "execute_result",
          "data": {
            "text/plain": [
              "0    France\n",
              "1     Spain\n",
              "2    France\n",
              "3    France\n",
              "4     Spain\n",
              "Name: Geography, dtype: object"
            ]
          },
          "metadata": {
            "tags": []
          },
          "execution_count": 12
        }
      ]
    },
    {
      "metadata": {
        "_uuid": "c7f9b495d3c2dabe39b68ea55534ba3f5325f3fd",
        "id": "6dZxj2na0_-U",
        "colab_type": "text"
      },
      "cell_type": "markdown",
      "source": [
        "#convert object to str"
      ]
    },
    {
      "metadata": {
        "trusted": true,
        "_uuid": "d80590b4de4ab83590237db72a66d39890b88a30",
        "id": "2M74lHNE0_-W",
        "colab_type": "code",
        "colab": {}
      },
      "cell_type": "code",
      "source": [
        "x[\"Geography\"] = x[\"Geography\"].astype('str')\n",
        "x[\"Gender\"] = x[\"Gender\"].astype('str')"
      ],
      "execution_count": 0,
      "outputs": []
    },
    {
      "metadata": {
        "trusted": true,
        "_uuid": "a6eb9f8354266fdb19ce772e7bfae2713992ad77",
        "id": "ZBWxEEFd0_-a",
        "colab_type": "code",
        "colab": {
          "base_uri": "https://localhost:8080/",
          "height": 272
        },
        "outputId": "af028ec2-1e47-4e6a-c046-10423f083e06"
      },
      "cell_type": "code",
      "source": [
        "x.info() "
      ],
      "execution_count": 14,
      "outputs": [
        {
          "output_type": "stream",
          "text": [
            "<class 'pandas.core.frame.DataFrame'>\n",
            "RangeIndex: 10000 entries, 0 to 9999\n",
            "Data columns (total 10 columns):\n",
            "CreditScore        10000 non-null int64\n",
            "Geography          10000 non-null object\n",
            "Gender             10000 non-null object\n",
            "Age                10000 non-null int64\n",
            "Tenure             10000 non-null int64\n",
            "Balance            10000 non-null float64\n",
            "NumOfProducts      10000 non-null int64\n",
            "HasCrCard          10000 non-null int64\n",
            "IsActiveMember     10000 non-null int64\n",
            "EstimatedSalary    10000 non-null float64\n",
            "dtypes: float64(2), int64(6), object(2)\n",
            "memory usage: 781.3+ KB\n"
          ],
          "name": "stdout"
        }
      ]
    },
    {
      "metadata": {
        "trusted": true,
        "_uuid": "ddbbf97e0cdabfd9ec912fdd881dd01b7eb85565",
        "id": "b-WA5xTU0_-e",
        "colab_type": "code",
        "colab": {}
      },
      "cell_type": "code",
      "source": [
        "#encode the Geography coloun - not used labledencoder library \n",
        "cat_list = pd.get_dummies(x.iloc[:,1], prefix=\"Geo\")"
      ],
      "execution_count": 0,
      "outputs": []
    },
    {
      "metadata": {
        "trusted": true,
        "_uuid": "d9170be26e59b1348e0fbefc223d7b1b7ea6cf70",
        "id": "8r0E5WfR0_-h",
        "colab_type": "code",
        "colab": {}
      },
      "cell_type": "code",
      "source": [
        "x=x.join(cat_list)"
      ],
      "execution_count": 0,
      "outputs": []
    },
    {
      "metadata": {
        "trusted": true,
        "_uuid": "0877829cc1452a0c294fd563e6dcdf752fb456dc",
        "id": "tpE1VmVn0_-l",
        "colab_type": "code",
        "colab": {
          "base_uri": "https://localhost:8080/",
          "height": 323
        },
        "outputId": "08532bba-6933-4b69-b7d4-09e78d43d3f4"
      },
      "cell_type": "code",
      "source": [
        "x.info()"
      ],
      "execution_count": 17,
      "outputs": [
        {
          "output_type": "stream",
          "text": [
            "<class 'pandas.core.frame.DataFrame'>\n",
            "RangeIndex: 10000 entries, 0 to 9999\n",
            "Data columns (total 13 columns):\n",
            "CreditScore        10000 non-null int64\n",
            "Geography          10000 non-null object\n",
            "Gender             10000 non-null object\n",
            "Age                10000 non-null int64\n",
            "Tenure             10000 non-null int64\n",
            "Balance            10000 non-null float64\n",
            "NumOfProducts      10000 non-null int64\n",
            "HasCrCard          10000 non-null int64\n",
            "IsActiveMember     10000 non-null int64\n",
            "EstimatedSalary    10000 non-null float64\n",
            "Geo_France         10000 non-null uint8\n",
            "Geo_Germany        10000 non-null uint8\n",
            "Geo_Spain          10000 non-null uint8\n",
            "dtypes: float64(2), int64(6), object(2), uint8(3)\n",
            "memory usage: 810.6+ KB\n"
          ],
          "name": "stdout"
        }
      ]
    },
    {
      "metadata": {
        "trusted": true,
        "_uuid": "a36713b16b9e5e985ed49f5dcb0331d6312ba886",
        "id": "bgF5mhwG0_-r",
        "colab_type": "code",
        "colab": {}
      },
      "cell_type": "code",
      "source": [
        "#encode the Gender\n",
        "x['gender_n'] = np.where(x['Gender'] == 'Female', 0, 1)"
      ],
      "execution_count": 0,
      "outputs": []
    },
    {
      "metadata": {
        "trusted": true,
        "_uuid": "4cba6a0f49d2c3e5d595fd48ecab88a050ef2fba",
        "id": "U5m99c9V0_-w",
        "colab_type": "code",
        "colab": {}
      },
      "cell_type": "code",
      "source": [
        "#copy to another dataset for reuse\n",
        "x1=x"
      ],
      "execution_count": 0,
      "outputs": []
    },
    {
      "metadata": {
        "trusted": true,
        "_uuid": "08135ac96f39697df82c099d9a6fb3510752f75e",
        "id": "VthzYNvu0_-1",
        "colab_type": "code",
        "colab": {}
      },
      "cell_type": "code",
      "source": [
        "#droped the unwanted columns - avoid dummy variable trap\n",
        "x=x.drop([\"Geography\",\"Gender\",\"Geo_Spain\"], axis=1)"
      ],
      "execution_count": 0,
      "outputs": []
    },
    {
      "metadata": {
        "trusted": true,
        "_uuid": "4033c63ef9eab1efab0062a28d9e5e266c327445",
        "id": "sx8oG3PJ0_-7",
        "colab_type": "code",
        "colab": {
          "base_uri": "https://localhost:8080/",
          "height": 224
        },
        "outputId": "5bf17977-66b7-4762-d7a1-a645b3518f93"
      },
      "cell_type": "code",
      "source": [
        "x1.head()"
      ],
      "execution_count": 21,
      "outputs": [
        {
          "output_type": "execute_result",
          "data": {
            "text/html": [
              "<div>\n",
              "<style scoped>\n",
              "    .dataframe tbody tr th:only-of-type {\n",
              "        vertical-align: middle;\n",
              "    }\n",
              "\n",
              "    .dataframe tbody tr th {\n",
              "        vertical-align: top;\n",
              "    }\n",
              "\n",
              "    .dataframe thead th {\n",
              "        text-align: right;\n",
              "    }\n",
              "</style>\n",
              "<table border=\"1\" class=\"dataframe\">\n",
              "  <thead>\n",
              "    <tr style=\"text-align: right;\">\n",
              "      <th></th>\n",
              "      <th>CreditScore</th>\n",
              "      <th>Geography</th>\n",
              "      <th>Gender</th>\n",
              "      <th>Age</th>\n",
              "      <th>Tenure</th>\n",
              "      <th>Balance</th>\n",
              "      <th>NumOfProducts</th>\n",
              "      <th>HasCrCard</th>\n",
              "      <th>IsActiveMember</th>\n",
              "      <th>EstimatedSalary</th>\n",
              "      <th>Geo_France</th>\n",
              "      <th>Geo_Germany</th>\n",
              "      <th>Geo_Spain</th>\n",
              "      <th>gender_n</th>\n",
              "    </tr>\n",
              "  </thead>\n",
              "  <tbody>\n",
              "    <tr>\n",
              "      <th>0</th>\n",
              "      <td>619</td>\n",
              "      <td>France</td>\n",
              "      <td>Female</td>\n",
              "      <td>42</td>\n",
              "      <td>2</td>\n",
              "      <td>0.00</td>\n",
              "      <td>1</td>\n",
              "      <td>1</td>\n",
              "      <td>1</td>\n",
              "      <td>101348.88</td>\n",
              "      <td>1</td>\n",
              "      <td>0</td>\n",
              "      <td>0</td>\n",
              "      <td>0</td>\n",
              "    </tr>\n",
              "    <tr>\n",
              "      <th>1</th>\n",
              "      <td>608</td>\n",
              "      <td>Spain</td>\n",
              "      <td>Female</td>\n",
              "      <td>41</td>\n",
              "      <td>1</td>\n",
              "      <td>83807.86</td>\n",
              "      <td>1</td>\n",
              "      <td>0</td>\n",
              "      <td>1</td>\n",
              "      <td>112542.58</td>\n",
              "      <td>0</td>\n",
              "      <td>0</td>\n",
              "      <td>1</td>\n",
              "      <td>0</td>\n",
              "    </tr>\n",
              "    <tr>\n",
              "      <th>2</th>\n",
              "      <td>502</td>\n",
              "      <td>France</td>\n",
              "      <td>Female</td>\n",
              "      <td>42</td>\n",
              "      <td>8</td>\n",
              "      <td>159660.80</td>\n",
              "      <td>3</td>\n",
              "      <td>1</td>\n",
              "      <td>0</td>\n",
              "      <td>113931.57</td>\n",
              "      <td>1</td>\n",
              "      <td>0</td>\n",
              "      <td>0</td>\n",
              "      <td>0</td>\n",
              "    </tr>\n",
              "    <tr>\n",
              "      <th>3</th>\n",
              "      <td>699</td>\n",
              "      <td>France</td>\n",
              "      <td>Female</td>\n",
              "      <td>39</td>\n",
              "      <td>1</td>\n",
              "      <td>0.00</td>\n",
              "      <td>2</td>\n",
              "      <td>0</td>\n",
              "      <td>0</td>\n",
              "      <td>93826.63</td>\n",
              "      <td>1</td>\n",
              "      <td>0</td>\n",
              "      <td>0</td>\n",
              "      <td>0</td>\n",
              "    </tr>\n",
              "    <tr>\n",
              "      <th>4</th>\n",
              "      <td>850</td>\n",
              "      <td>Spain</td>\n",
              "      <td>Female</td>\n",
              "      <td>43</td>\n",
              "      <td>2</td>\n",
              "      <td>125510.82</td>\n",
              "      <td>1</td>\n",
              "      <td>1</td>\n",
              "      <td>1</td>\n",
              "      <td>79084.10</td>\n",
              "      <td>0</td>\n",
              "      <td>0</td>\n",
              "      <td>1</td>\n",
              "      <td>0</td>\n",
              "    </tr>\n",
              "  </tbody>\n",
              "</table>\n",
              "</div>"
            ],
            "text/plain": [
              "   CreditScore Geography  Gender  Age  Tenure    Balance  NumOfProducts  \\\n",
              "0          619    France  Female   42       2       0.00              1   \n",
              "1          608     Spain  Female   41       1   83807.86              1   \n",
              "2          502    France  Female   42       8  159660.80              3   \n",
              "3          699    France  Female   39       1       0.00              2   \n",
              "4          850     Spain  Female   43       2  125510.82              1   \n",
              "\n",
              "   HasCrCard  IsActiveMember  EstimatedSalary  Geo_France  Geo_Germany  \\\n",
              "0          1               1        101348.88           1            0   \n",
              "1          0               1        112542.58           0            0   \n",
              "2          1               0        113931.57           1            0   \n",
              "3          0               0         93826.63           1            0   \n",
              "4          1               1         79084.10           0            0   \n",
              "\n",
              "   Geo_Spain  gender_n  \n",
              "0          0         0  \n",
              "1          1         0  \n",
              "2          0         0  \n",
              "3          0         0  \n",
              "4          1         0  "
            ]
          },
          "metadata": {
            "tags": []
          },
          "execution_count": 21
        }
      ]
    },
    {
      "metadata": {
        "trusted": true,
        "_uuid": "2d879e28412fbe293e26d7d18b8d8e8852afe9b8",
        "id": "gYPl3P510__H",
        "colab_type": "code",
        "colab": {
          "base_uri": "https://localhost:8080/",
          "height": 224
        },
        "outputId": "4f7e294e-4f86-4bca-e439-c311aeb27442"
      },
      "cell_type": "code",
      "source": [
        "x.head()"
      ],
      "execution_count": 22,
      "outputs": [
        {
          "output_type": "execute_result",
          "data": {
            "text/html": [
              "<div>\n",
              "<style scoped>\n",
              "    .dataframe tbody tr th:only-of-type {\n",
              "        vertical-align: middle;\n",
              "    }\n",
              "\n",
              "    .dataframe tbody tr th {\n",
              "        vertical-align: top;\n",
              "    }\n",
              "\n",
              "    .dataframe thead th {\n",
              "        text-align: right;\n",
              "    }\n",
              "</style>\n",
              "<table border=\"1\" class=\"dataframe\">\n",
              "  <thead>\n",
              "    <tr style=\"text-align: right;\">\n",
              "      <th></th>\n",
              "      <th>CreditScore</th>\n",
              "      <th>Age</th>\n",
              "      <th>Tenure</th>\n",
              "      <th>Balance</th>\n",
              "      <th>NumOfProducts</th>\n",
              "      <th>HasCrCard</th>\n",
              "      <th>IsActiveMember</th>\n",
              "      <th>EstimatedSalary</th>\n",
              "      <th>Geo_France</th>\n",
              "      <th>Geo_Germany</th>\n",
              "      <th>gender_n</th>\n",
              "    </tr>\n",
              "  </thead>\n",
              "  <tbody>\n",
              "    <tr>\n",
              "      <th>0</th>\n",
              "      <td>619</td>\n",
              "      <td>42</td>\n",
              "      <td>2</td>\n",
              "      <td>0.00</td>\n",
              "      <td>1</td>\n",
              "      <td>1</td>\n",
              "      <td>1</td>\n",
              "      <td>101348.88</td>\n",
              "      <td>1</td>\n",
              "      <td>0</td>\n",
              "      <td>0</td>\n",
              "    </tr>\n",
              "    <tr>\n",
              "      <th>1</th>\n",
              "      <td>608</td>\n",
              "      <td>41</td>\n",
              "      <td>1</td>\n",
              "      <td>83807.86</td>\n",
              "      <td>1</td>\n",
              "      <td>0</td>\n",
              "      <td>1</td>\n",
              "      <td>112542.58</td>\n",
              "      <td>0</td>\n",
              "      <td>0</td>\n",
              "      <td>0</td>\n",
              "    </tr>\n",
              "    <tr>\n",
              "      <th>2</th>\n",
              "      <td>502</td>\n",
              "      <td>42</td>\n",
              "      <td>8</td>\n",
              "      <td>159660.80</td>\n",
              "      <td>3</td>\n",
              "      <td>1</td>\n",
              "      <td>0</td>\n",
              "      <td>113931.57</td>\n",
              "      <td>1</td>\n",
              "      <td>0</td>\n",
              "      <td>0</td>\n",
              "    </tr>\n",
              "    <tr>\n",
              "      <th>3</th>\n",
              "      <td>699</td>\n",
              "      <td>39</td>\n",
              "      <td>1</td>\n",
              "      <td>0.00</td>\n",
              "      <td>2</td>\n",
              "      <td>0</td>\n",
              "      <td>0</td>\n",
              "      <td>93826.63</td>\n",
              "      <td>1</td>\n",
              "      <td>0</td>\n",
              "      <td>0</td>\n",
              "    </tr>\n",
              "    <tr>\n",
              "      <th>4</th>\n",
              "      <td>850</td>\n",
              "      <td>43</td>\n",
              "      <td>2</td>\n",
              "      <td>125510.82</td>\n",
              "      <td>1</td>\n",
              "      <td>1</td>\n",
              "      <td>1</td>\n",
              "      <td>79084.10</td>\n",
              "      <td>0</td>\n",
              "      <td>0</td>\n",
              "      <td>0</td>\n",
              "    </tr>\n",
              "  </tbody>\n",
              "</table>\n",
              "</div>"
            ],
            "text/plain": [
              "   CreditScore  Age  Tenure    Balance  NumOfProducts  HasCrCard  \\\n",
              "0          619   42       2       0.00              1          1   \n",
              "1          608   41       1   83807.86              1          0   \n",
              "2          502   42       8  159660.80              3          1   \n",
              "3          699   39       1       0.00              2          0   \n",
              "4          850   43       2  125510.82              1          1   \n",
              "\n",
              "   IsActiveMember  EstimatedSalary  Geo_France  Geo_Germany  gender_n  \n",
              "0               1        101348.88           1            0         0  \n",
              "1               1        112542.58           0            0         0  \n",
              "2               0        113931.57           1            0         0  \n",
              "3               0         93826.63           1            0         0  \n",
              "4               1         79084.10           0            0         0  "
            ]
          },
          "metadata": {
            "tags": []
          },
          "execution_count": 22
        }
      ]
    },
    {
      "metadata": {
        "trusted": true,
        "_uuid": "69f81a14300c9d2aa9d756af1ea45d3d8952cf34",
        "id": "j5etUQZ_0__N",
        "colab_type": "code",
        "colab": {}
      },
      "cell_type": "code",
      "source": [
        "#data_var=x.columns.values.tolist()\n",
        "#data=[i for i in data_var if i not in \"Geography\"]"
      ],
      "execution_count": 0,
      "outputs": []
    },
    {
      "metadata": {
        "trusted": true,
        "_uuid": "160eb869d3f6fdef18db08fec1c157bd1613d552",
        "id": "rv-8FC-w0__T",
        "colab_type": "code",
        "colab": {}
      },
      "cell_type": "code",
      "source": [
        "# Encoding categorical data\n",
        "  #from sklearn.preprocessing import LabelEncoder, OneHotEncoder\n",
        "#encode the Geography column\n",
        "#labelencoder_x_1 = LabelEncoder()\n",
        "#x.iloc[:, 1] = labelencoder_x_1.fit_transform(x.iloc[:, 1])\n",
        "\n",
        "#encode the Gender column\n",
        "#labelencoder_x_2 = LabelEncoder()\n",
        "#x.iloc[:, 2] = labelencoder_x_2.fit_transform(x.iloc[:, 2])\n",
        "#onehotencoder = OneHotEncoder(categorical_features = [1])\n",
        "#x = onehotencoder.fit_transform(x).toarray()\n",
        "#x = x[:,1:]"
      ],
      "execution_count": 0,
      "outputs": []
    },
    {
      "metadata": {
        "trusted": true,
        "_uuid": "5ff6ac8e3cf253fe4d6be20d55307d06c43a29d2",
        "id": "BCNizMtL0__Y",
        "colab_type": "code",
        "colab": {
          "base_uri": "https://localhost:8080/",
          "height": 34
        },
        "outputId": "58066c12-b7f6-4c8d-d726-33495754d1ae"
      },
      "cell_type": "code",
      "source": [
        "y.shape"
      ],
      "execution_count": 25,
      "outputs": [
        {
          "output_type": "execute_result",
          "data": {
            "text/plain": [
              "(10000,)"
            ]
          },
          "metadata": {
            "tags": []
          },
          "execution_count": 25
        }
      ]
    },
    {
      "metadata": {
        "trusted": true,
        "_uuid": "d5fe9439bfb4c67126a4e0808fa92561c8e06d5c",
        "id": "F172RDkZ0__h",
        "colab_type": "code",
        "colab": {}
      },
      "cell_type": "code",
      "source": [
        "# Now I will prepare my data before to start my Train and Test set.\n",
        "\n",
        "from sklearn.model_selection import train_test_split\n",
        "X_train, X_test, y_train, y_test = train_test_split(x, y, test_size=0.20, random_state=0)"
      ],
      "execution_count": 0,
      "outputs": []
    },
    {
      "metadata": {
        "trusted": true,
        "_uuid": "5c40d8ec46ad9953c8697bb7f339c7f9666b6a06",
        "id": "MX5Z0TD_0__k",
        "colab_type": "code",
        "colab": {
          "base_uri": "https://localhost:8080/",
          "height": 224
        },
        "outputId": "cca9b0ab-ba9d-489f-b085-8124cfeaa047"
      },
      "cell_type": "code",
      "source": [
        "X_train.head()"
      ],
      "execution_count": 27,
      "outputs": [
        {
          "output_type": "execute_result",
          "data": {
            "text/html": [
              "<div>\n",
              "<style scoped>\n",
              "    .dataframe tbody tr th:only-of-type {\n",
              "        vertical-align: middle;\n",
              "    }\n",
              "\n",
              "    .dataframe tbody tr th {\n",
              "        vertical-align: top;\n",
              "    }\n",
              "\n",
              "    .dataframe thead th {\n",
              "        text-align: right;\n",
              "    }\n",
              "</style>\n",
              "<table border=\"1\" class=\"dataframe\">\n",
              "  <thead>\n",
              "    <tr style=\"text-align: right;\">\n",
              "      <th></th>\n",
              "      <th>CreditScore</th>\n",
              "      <th>Age</th>\n",
              "      <th>Tenure</th>\n",
              "      <th>Balance</th>\n",
              "      <th>NumOfProducts</th>\n",
              "      <th>HasCrCard</th>\n",
              "      <th>IsActiveMember</th>\n",
              "      <th>EstimatedSalary</th>\n",
              "      <th>Geo_France</th>\n",
              "      <th>Geo_Germany</th>\n",
              "      <th>gender_n</th>\n",
              "    </tr>\n",
              "  </thead>\n",
              "  <tbody>\n",
              "    <tr>\n",
              "      <th>7389</th>\n",
              "      <td>667</td>\n",
              "      <td>34</td>\n",
              "      <td>5</td>\n",
              "      <td>0.00</td>\n",
              "      <td>2</td>\n",
              "      <td>1</td>\n",
              "      <td>0</td>\n",
              "      <td>163830.64</td>\n",
              "      <td>0</td>\n",
              "      <td>0</td>\n",
              "      <td>0</td>\n",
              "    </tr>\n",
              "    <tr>\n",
              "      <th>9275</th>\n",
              "      <td>427</td>\n",
              "      <td>42</td>\n",
              "      <td>1</td>\n",
              "      <td>75681.52</td>\n",
              "      <td>1</td>\n",
              "      <td>1</td>\n",
              "      <td>1</td>\n",
              "      <td>57098.00</td>\n",
              "      <td>0</td>\n",
              "      <td>1</td>\n",
              "      <td>1</td>\n",
              "    </tr>\n",
              "    <tr>\n",
              "      <th>2995</th>\n",
              "      <td>535</td>\n",
              "      <td>29</td>\n",
              "      <td>2</td>\n",
              "      <td>112367.34</td>\n",
              "      <td>1</td>\n",
              "      <td>1</td>\n",
              "      <td>0</td>\n",
              "      <td>185630.76</td>\n",
              "      <td>1</td>\n",
              "      <td>0</td>\n",
              "      <td>0</td>\n",
              "    </tr>\n",
              "    <tr>\n",
              "      <th>5316</th>\n",
              "      <td>654</td>\n",
              "      <td>40</td>\n",
              "      <td>5</td>\n",
              "      <td>105683.63</td>\n",
              "      <td>1</td>\n",
              "      <td>1</td>\n",
              "      <td>0</td>\n",
              "      <td>173617.09</td>\n",
              "      <td>0</td>\n",
              "      <td>0</td>\n",
              "      <td>1</td>\n",
              "    </tr>\n",
              "    <tr>\n",
              "      <th>356</th>\n",
              "      <td>850</td>\n",
              "      <td>57</td>\n",
              "      <td>8</td>\n",
              "      <td>126776.30</td>\n",
              "      <td>2</td>\n",
              "      <td>1</td>\n",
              "      <td>1</td>\n",
              "      <td>132298.49</td>\n",
              "      <td>0</td>\n",
              "      <td>0</td>\n",
              "      <td>0</td>\n",
              "    </tr>\n",
              "  </tbody>\n",
              "</table>\n",
              "</div>"
            ],
            "text/plain": [
              "      CreditScore  Age  Tenure    Balance  NumOfProducts  HasCrCard  \\\n",
              "7389          667   34       5       0.00              2          1   \n",
              "9275          427   42       1   75681.52              1          1   \n",
              "2995          535   29       2  112367.34              1          1   \n",
              "5316          654   40       5  105683.63              1          1   \n",
              "356           850   57       8  126776.30              2          1   \n",
              "\n",
              "      IsActiveMember  EstimatedSalary  Geo_France  Geo_Germany  gender_n  \n",
              "7389               0        163830.64           0            0         0  \n",
              "9275               1         57098.00           0            1         1  \n",
              "2995               0        185630.76           1            0         0  \n",
              "5316               0        173617.09           0            0         1  \n",
              "356                1        132298.49           0            0         0  "
            ]
          },
          "metadata": {
            "tags": []
          },
          "execution_count": 27
        }
      ]
    },
    {
      "metadata": {
        "trusted": true,
        "_uuid": "699b85b90ed2cefaad043f7b3e8749ff5c1cd6a7",
        "id": "WVyylVjN0__r",
        "colab_type": "code",
        "colab": {
          "base_uri": "https://localhost:8080/",
          "height": 139
        },
        "outputId": "b12b2270-11f6-4aaa-c268-93298c8d8780"
      },
      "cell_type": "code",
      "source": [
        "# For there isn't any proble with correlations between the values,\n",
        "# I will aplly the \"Feature Scaling\".\n",
        "\n",
        "from  sklearn.preprocessing import StandardScaler\n",
        "sc_X = StandardScaler()\n",
        "X_train = sc_X.fit_transform(X_train)\n",
        "X_test = sc_X.transform(X_test)"
      ],
      "execution_count": 28,
      "outputs": [
        {
          "output_type": "stream",
          "text": [
            "/usr/local/lib/python3.6/dist-packages/sklearn/preprocessing/data.py:625: DataConversionWarning: Data with input dtype uint8, int64, float64 were all converted to float64 by StandardScaler.\n",
            "  return self.partial_fit(X, y)\n",
            "/usr/local/lib/python3.6/dist-packages/sklearn/base.py:462: DataConversionWarning: Data with input dtype uint8, int64, float64 were all converted to float64 by StandardScaler.\n",
            "  return self.fit(X, **fit_params).transform(X)\n",
            "/usr/local/lib/python3.6/dist-packages/ipykernel_launcher.py:5: DataConversionWarning: Data with input dtype uint8, int64, float64 were all converted to float64 by StandardScaler.\n",
            "  \"\"\"\n"
          ],
          "name": "stderr"
        }
      ]
    },
    {
      "metadata": {
        "trusted": true,
        "_uuid": "bb265ada044dba0e197b1f5a291bba2aae98c32e",
        "id": "N_L-8G3g0__u",
        "colab_type": "code",
        "colab": {
          "base_uri": "https://localhost:8080/",
          "height": 34
        },
        "outputId": "fccee14e-0930-4c80-b39b-592648452bdb"
      },
      "cell_type": "code",
      "source": [
        "type(X_train)"
      ],
      "execution_count": 29,
      "outputs": [
        {
          "output_type": "execute_result",
          "data": {
            "text/plain": [
              "numpy.ndarray"
            ]
          },
          "metadata": {
            "tags": []
          },
          "execution_count": 29
        }
      ]
    },
    {
      "metadata": {
        "trusted": true,
        "_uuid": "46f8a3104e402c4a99745e678bb2a0212c9d5a07",
        "id": "5Fesm8Yp0__y",
        "colab_type": "code",
        "colab": {
          "base_uri": "https://localhost:8080/",
          "height": 34
        },
        "outputId": "6d5819e3-5bf9-40e4-a812-2fa83d5774bd"
      },
      "cell_type": "code",
      "source": [
        "X_train.shape"
      ],
      "execution_count": 30,
      "outputs": [
        {
          "output_type": "execute_result",
          "data": {
            "text/plain": [
              "(8000, 11)"
            ]
          },
          "metadata": {
            "tags": []
          },
          "execution_count": 30
        }
      ]
    },
    {
      "metadata": {
        "trusted": true,
        "_uuid": "bf948f4feafec32a633742a7cd59b0de3b961da7",
        "id": "Oe_hw_Xi0__1",
        "colab_type": "code",
        "colab": {
          "base_uri": "https://localhost:8080/",
          "height": 119
        },
        "outputId": "6744439e-c70e-49d7-89ce-f2f79de4ddc4"
      },
      "cell_type": "code",
      "source": [
        "type(y_train)\n",
        "y_train.head()"
      ],
      "execution_count": 31,
      "outputs": [
        {
          "output_type": "execute_result",
          "data": {
            "text/plain": [
              "7389    0\n",
              "9275    0\n",
              "2995    0\n",
              "5316    0\n",
              "356     0\n",
              "Name: Exited, dtype: int64"
            ]
          },
          "metadata": {
            "tags": []
          },
          "execution_count": 31
        }
      ]
    },
    {
      "metadata": {
        "trusted": true,
        "_uuid": "1d101c4d7e59f79ef9ed118e1359cdf89c8158ad",
        "id": "OREBD1Wv0__5",
        "colab_type": "code",
        "colab": {
          "base_uri": "https://localhost:8080/",
          "height": 34
        },
        "outputId": "f355ead6-5988-49b6-f76d-76b91cff9ffc"
      },
      "cell_type": "code",
      "source": [
        "# Firt of all: Let's import the Keras libraries and packages.\n",
        "\n",
        "import keras\n",
        "from keras.models import Sequential\n",
        "from keras.layers import Dense"
      ],
      "execution_count": 32,
      "outputs": [
        {
          "output_type": "stream",
          "text": [
            "Using TensorFlow backend.\n"
          ],
          "name": "stderr"
        }
      ]
    },
    {
      "metadata": {
        "trusted": true,
        "_uuid": "e2ded77b0decc7ef5060dea1aa0ea731c1da0577",
        "id": "H6dc95c30__7",
        "colab_type": "code",
        "colab": {}
      },
      "cell_type": "code",
      "source": [
        "# inicializing the ANN.\n",
        "classifier = Sequential()"
      ],
      "execution_count": 0,
      "outputs": []
    },
    {
      "metadata": {
        "trusted": true,
        "_uuid": "0babe68af2d3aeb41858d663490cc4453bc0de14",
        "id": "8Gbgv-fj0__9",
        "colab_type": "code",
        "colab": {
          "base_uri": "https://localhost:8080/",
          "height": 122
        },
        "outputId": "621a3834-a4c4-4d35-8692-f597fcf3589e"
      },
      "cell_type": "code",
      "source": [
        "#add the input layer and the first hidden layer.\n",
        "\n",
        "#classifier.add(Dense(output_dim=6, init='uniform', activation='relu', input_dim=11))\n",
        "classifier.add(Dense(6,input_dim=11,init='uniform', activation='relu'))\n",
        "\n",
        "# In \"output_dim\" I used a not best technique that is get the quantity of output plus input and divide by 2, so 11 + 1 / 2 = 6.\n",
        "# In \"Activiation\" I used the best function for hidden layers: \"relu\"."
      ],
      "execution_count": 34,
      "outputs": [
        {
          "output_type": "stream",
          "text": [
            "WARNING:tensorflow:From /usr/local/lib/python3.6/dist-packages/tensorflow/python/framework/op_def_library.py:263: colocate_with (from tensorflow.python.framework.ops) is deprecated and will be removed in a future version.\n",
            "Instructions for updating:\n",
            "Colocations handled automatically by placer.\n"
          ],
          "name": "stdout"
        },
        {
          "output_type": "stream",
          "text": [
            "/usr/local/lib/python3.6/dist-packages/ipykernel_launcher.py:1: UserWarning: Update your `Dense` call to the Keras 2 API: `Dense(6, input_dim=11, activation=\"relu\", kernel_initializer=\"uniform\")`\n",
            "  \"\"\"Entry point for launching an IPython kernel.\n"
          ],
          "name": "stderr"
        }
      ]
    },
    {
      "metadata": {
        "trusted": true,
        "_uuid": "3a344648d2c26383533f01120e71763f26f6fa08",
        "id": "Z1qyb8Pp1AAC",
        "colab_type": "code",
        "colab": {
          "base_uri": "https://localhost:8080/",
          "height": 71
        },
        "outputId": "ab936c99-9989-4975-bbbb-a885454e64ce"
      },
      "cell_type": "code",
      "source": [
        "# Adding the second layer.\n",
        "#classifier.add(Dense(output_dim=6, init='uniform', activation='relu'))\n",
        "# Note that this time I didn't insert the \"input_dim\" paramether, because now I Know how many input I have in my ANN.\n",
        "classifier.add(Dense(6, init='uniform', activation='relu'))"
      ],
      "execution_count": 35,
      "outputs": [
        {
          "output_type": "stream",
          "text": [
            "/usr/local/lib/python3.6/dist-packages/ipykernel_launcher.py:1: UserWarning: Update your `Dense` call to the Keras 2 API: `Dense(6, activation=\"relu\", kernel_initializer=\"uniform\")`\n",
            "  \"\"\"Entry point for launching an IPython kernel.\n"
          ],
          "name": "stderr"
        }
      ]
    },
    {
      "metadata": {
        "trusted": true,
        "_uuid": "7c595501ce95e20efe2d9e46890248dee82d3fe1",
        "id": "3LoB5e5K1AAF",
        "colab_type": "code",
        "colab": {
          "base_uri": "https://localhost:8080/",
          "height": 71
        },
        "outputId": "bf6c98a9-95e3-49ac-f78c-c7f4bf2c46dc"
      },
      "cell_type": "code",
      "source": [
        "# Almost finish. Now I will add the output layer.\n",
        "# In \"output_dim\" I put one because I have to guess only the clients who leaves the bank accounts.\n",
        "# In \"activation\" I use the best function for it: \"sigmoid\"\n",
        "#classifier.add(Dense(output_dim=1, init='uniform', activation='sigmoid'))\n",
        "\n",
        "classifier.add(Dense(1, init='uniform', activation='sigmoid'))"
      ],
      "execution_count": 36,
      "outputs": [
        {
          "output_type": "stream",
          "text": [
            "/usr/local/lib/python3.6/dist-packages/ipykernel_launcher.py:2: UserWarning: Update your `Dense` call to the Keras 2 API: `Dense(1, activation=\"sigmoid\", kernel_initializer=\"uniform\")`\n",
            "  \n"
          ],
          "name": "stderr"
        }
      ]
    },
    {
      "metadata": {
        "trusted": true,
        "_uuid": "63aab0f81516633ead06192ed9d5f5346ecebc94",
        "id": "hFqkcZN01AAJ",
        "colab_type": "code",
        "colab": {}
      },
      "cell_type": "code",
      "source": [
        "# Compiling the ANN.\n",
        "\n",
        "classifier.compile(optimizer='adam', loss='binary_crossentropy', metrics=['accuracy'])\n",
        "\n",
        "# If I have more than one output, I would have to use in loss paramether other cross entropy."
      ],
      "execution_count": 0,
      "outputs": []
    },
    {
      "metadata": {
        "trusted": true,
        "_uuid": "c7b0d2602e63fdb806ca81ecd2253a4ab00aa04c",
        "id": "38JzCjg01AAM",
        "colab_type": "code",
        "colab": {
          "base_uri": "https://localhost:8080/",
          "height": 3539
        },
        "outputId": "abd8195a-2df2-4aaf-b4a0-17164fc2d9b3"
      },
      "cell_type": "code",
      "source": [
        "# Let's do the ANN work for us!!!!\n",
        "\n",
        "classifier.fit(X_train, y_train, batch_size=10, nb_epoch=100)"
      ],
      "execution_count": 38,
      "outputs": [
        {
          "output_type": "stream",
          "text": [
            "WARNING:tensorflow:From /usr/local/lib/python3.6/dist-packages/tensorflow/python/ops/math_ops.py:3066: to_int32 (from tensorflow.python.ops.math_ops) is deprecated and will be removed in a future version.\n",
            "Instructions for updating:\n",
            "Use tf.cast instead.\n"
          ],
          "name": "stdout"
        },
        {
          "output_type": "stream",
          "text": [
            "/usr/local/lib/python3.6/dist-packages/ipykernel_launcher.py:2: UserWarning: The `nb_epoch` argument in `fit` has been renamed `epochs`.\n",
            "  \n"
          ],
          "name": "stderr"
        },
        {
          "output_type": "stream",
          "text": [
            "Epoch 1/100\n",
            "8000/8000 [==============================] - 1s 178us/step - loss: 0.4944 - acc: 0.7954\n",
            "Epoch 2/100\n",
            "8000/8000 [==============================] - 1s 100us/step - loss: 0.4303 - acc: 0.7960\n",
            "Epoch 3/100\n",
            "8000/8000 [==============================] - 1s 98us/step - loss: 0.4257 - acc: 0.7960\n",
            "Epoch 4/100\n",
            "8000/8000 [==============================] - 1s 98us/step - loss: 0.4221 - acc: 0.7997\n",
            "Epoch 5/100\n",
            "8000/8000 [==============================] - 1s 97us/step - loss: 0.4187 - acc: 0.8205\n",
            "Epoch 6/100\n",
            "8000/8000 [==============================] - 1s 96us/step - loss: 0.4162 - acc: 0.8270\n",
            "Epoch 7/100\n",
            "8000/8000 [==============================] - 1s 97us/step - loss: 0.4144 - acc: 0.8312\n",
            "Epoch 8/100\n",
            "8000/8000 [==============================] - 1s 94us/step - loss: 0.4131 - acc: 0.8307\n",
            "Epoch 9/100\n",
            "8000/8000 [==============================] - 1s 98us/step - loss: 0.4117 - acc: 0.8311\n",
            "Epoch 10/100\n",
            "8000/8000 [==============================] - 1s 97us/step - loss: 0.4105 - acc: 0.8330\n",
            "Epoch 11/100\n",
            "8000/8000 [==============================] - 1s 96us/step - loss: 0.4095 - acc: 0.8326\n",
            "Epoch 12/100\n",
            "8000/8000 [==============================] - 1s 96us/step - loss: 0.4088 - acc: 0.8335\n",
            "Epoch 13/100\n",
            "8000/8000 [==============================] - 1s 97us/step - loss: 0.4079 - acc: 0.8335\n",
            "Epoch 14/100\n",
            "8000/8000 [==============================] - 1s 98us/step - loss: 0.4077 - acc: 0.8335\n",
            "Epoch 15/100\n",
            "8000/8000 [==============================] - 1s 98us/step - loss: 0.4070 - acc: 0.8336\n",
            "Epoch 16/100\n",
            "8000/8000 [==============================] - 1s 94us/step - loss: 0.4065 - acc: 0.8344\n",
            "Epoch 17/100\n",
            "8000/8000 [==============================] - 1s 97us/step - loss: 0.4062 - acc: 0.8340\n",
            "Epoch 18/100\n",
            "8000/8000 [==============================] - 1s 99us/step - loss: 0.4052 - acc: 0.8331\n",
            "Epoch 19/100\n",
            "8000/8000 [==============================] - 1s 97us/step - loss: 0.4051 - acc: 0.8346\n",
            "Epoch 20/100\n",
            "8000/8000 [==============================] - 1s 97us/step - loss: 0.4046 - acc: 0.8345\n",
            "Epoch 21/100\n",
            "8000/8000 [==============================] - 1s 98us/step - loss: 0.4041 - acc: 0.8351\n",
            "Epoch 22/100\n",
            "8000/8000 [==============================] - 1s 95us/step - loss: 0.4037 - acc: 0.8359\n",
            "Epoch 23/100\n",
            "8000/8000 [==============================] - 1s 98us/step - loss: 0.4038 - acc: 0.8355\n",
            "Epoch 24/100\n",
            "8000/8000 [==============================] - 1s 94us/step - loss: 0.4032 - acc: 0.8346\n",
            "Epoch 25/100\n",
            "8000/8000 [==============================] - 1s 98us/step - loss: 0.4032 - acc: 0.8360\n",
            "Epoch 26/100\n",
            "8000/8000 [==============================] - 1s 98us/step - loss: 0.4031 - acc: 0.8356\n",
            "Epoch 27/100\n",
            "8000/8000 [==============================] - 1s 98us/step - loss: 0.4028 - acc: 0.8351\n",
            "Epoch 28/100\n",
            "8000/8000 [==============================] - 1s 97us/step - loss: 0.4026 - acc: 0.8342\n",
            "Epoch 29/100\n",
            "8000/8000 [==============================] - 1s 97us/step - loss: 0.4025 - acc: 0.8357\n",
            "Epoch 30/100\n",
            "8000/8000 [==============================] - 1s 97us/step - loss: 0.4024 - acc: 0.8351\n",
            "Epoch 31/100\n",
            "8000/8000 [==============================] - 1s 97us/step - loss: 0.4020 - acc: 0.8350\n",
            "Epoch 32/100\n",
            "8000/8000 [==============================] - 1s 97us/step - loss: 0.4024 - acc: 0.8360\n",
            "Epoch 33/100\n",
            "8000/8000 [==============================] - 1s 98us/step - loss: 0.4020 - acc: 0.8365\n",
            "Epoch 34/100\n",
            "8000/8000 [==============================] - 1s 95us/step - loss: 0.4017 - acc: 0.8337\n",
            "Epoch 35/100\n",
            "8000/8000 [==============================] - 1s 97us/step - loss: 0.4019 - acc: 0.8351\n",
            "Epoch 36/100\n",
            "8000/8000 [==============================] - 1s 96us/step - loss: 0.4017 - acc: 0.8354\n",
            "Epoch 37/100\n",
            "8000/8000 [==============================] - 1s 96us/step - loss: 0.4015 - acc: 0.8347\n",
            "Epoch 38/100\n",
            "8000/8000 [==============================] - 1s 97us/step - loss: 0.4017 - acc: 0.8349\n",
            "Epoch 39/100\n",
            "8000/8000 [==============================] - 1s 95us/step - loss: 0.4015 - acc: 0.8359\n",
            "Epoch 40/100\n",
            "8000/8000 [==============================] - 1s 95us/step - loss: 0.4014 - acc: 0.8335\n",
            "Epoch 41/100\n",
            "8000/8000 [==============================] - 1s 97us/step - loss: 0.4012 - acc: 0.8352\n",
            "Epoch 42/100\n",
            "8000/8000 [==============================] - 1s 96us/step - loss: 0.4010 - acc: 0.8359\n",
            "Epoch 43/100\n",
            "8000/8000 [==============================] - 1s 98us/step - loss: 0.4010 - acc: 0.8351\n",
            "Epoch 44/100\n",
            "8000/8000 [==============================] - 1s 95us/step - loss: 0.4011 - acc: 0.8355\n",
            "Epoch 45/100\n",
            "8000/8000 [==============================] - 1s 95us/step - loss: 0.4010 - acc: 0.8355\n",
            "Epoch 46/100\n",
            "8000/8000 [==============================] - 1s 95us/step - loss: 0.4007 - acc: 0.8342\n",
            "Epoch 47/100\n",
            "8000/8000 [==============================] - 1s 95us/step - loss: 0.4007 - acc: 0.8354\n",
            "Epoch 48/100\n",
            "8000/8000 [==============================] - 1s 95us/step - loss: 0.4010 - acc: 0.8349\n",
            "Epoch 49/100\n",
            "8000/8000 [==============================] - 1s 96us/step - loss: 0.4007 - acc: 0.8344\n",
            "Epoch 50/100\n",
            "8000/8000 [==============================] - 1s 95us/step - loss: 0.4010 - acc: 0.8341\n",
            "Epoch 51/100\n",
            "8000/8000 [==============================] - 1s 96us/step - loss: 0.4002 - acc: 0.8355\n",
            "Epoch 52/100\n",
            "8000/8000 [==============================] - 1s 100us/step - loss: 0.4010 - acc: 0.8359\n",
            "Epoch 53/100\n",
            "8000/8000 [==============================] - 1s 97us/step - loss: 0.4007 - acc: 0.8355\n",
            "Epoch 54/100\n",
            "8000/8000 [==============================] - 1s 98us/step - loss: 0.4002 - acc: 0.8347\n",
            "Epoch 55/100\n",
            "8000/8000 [==============================] - 1s 95us/step - loss: 0.4004 - acc: 0.8354\n",
            "Epoch 56/100\n",
            "8000/8000 [==============================] - 1s 97us/step - loss: 0.4004 - acc: 0.8346\n",
            "Epoch 57/100\n",
            "8000/8000 [==============================] - 1s 94us/step - loss: 0.4006 - acc: 0.8362\n",
            "Epoch 58/100\n",
            "8000/8000 [==============================] - 1s 98us/step - loss: 0.4003 - acc: 0.8357\n",
            "Epoch 59/100\n",
            "8000/8000 [==============================] - 1s 98us/step - loss: 0.4002 - acc: 0.8351\n",
            "Epoch 60/100\n",
            "8000/8000 [==============================] - 1s 97us/step - loss: 0.4002 - acc: 0.8362\n",
            "Epoch 61/100\n",
            "8000/8000 [==============================] - 1s 96us/step - loss: 0.4001 - acc: 0.8352\n",
            "Epoch 62/100\n",
            "8000/8000 [==============================] - 1s 96us/step - loss: 0.4005 - acc: 0.8340\n",
            "Epoch 63/100\n",
            "8000/8000 [==============================] - 1s 95us/step - loss: 0.3999 - acc: 0.8356\n",
            "Epoch 64/100\n",
            "8000/8000 [==============================] - 1s 97us/step - loss: 0.4003 - acc: 0.8357\n",
            "Epoch 65/100\n",
            "8000/8000 [==============================] - 1s 96us/step - loss: 0.4000 - acc: 0.8337\n",
            "Epoch 66/100\n",
            "8000/8000 [==============================] - 1s 96us/step - loss: 0.3997 - acc: 0.8360\n",
            "Epoch 67/100\n",
            "8000/8000 [==============================] - 1s 94us/step - loss: 0.4001 - acc: 0.8349\n",
            "Epoch 68/100\n",
            "8000/8000 [==============================] - 1s 95us/step - loss: 0.4000 - acc: 0.8346\n",
            "Epoch 69/100\n",
            "8000/8000 [==============================] - 1s 98us/step - loss: 0.3998 - acc: 0.8369\n",
            "Epoch 70/100\n",
            "8000/8000 [==============================] - 1s 98us/step - loss: 0.4000 - acc: 0.8354\n",
            "Epoch 71/100\n",
            "8000/8000 [==============================] - 1s 97us/step - loss: 0.4002 - acc: 0.8349\n",
            "Epoch 72/100\n",
            "8000/8000 [==============================] - 1s 100us/step - loss: 0.4000 - acc: 0.8341\n",
            "Epoch 73/100\n",
            "8000/8000 [==============================] - 1s 104us/step - loss: 0.3996 - acc: 0.8357\n",
            "Epoch 74/100\n",
            "8000/8000 [==============================] - 1s 103us/step - loss: 0.3998 - acc: 0.8359\n",
            "Epoch 75/100\n",
            "8000/8000 [==============================] - 1s 101us/step - loss: 0.4001 - acc: 0.8341\n",
            "Epoch 76/100\n",
            "8000/8000 [==============================] - 1s 106us/step - loss: 0.3996 - acc: 0.8357\n",
            "Epoch 77/100\n",
            "8000/8000 [==============================] - 1s 106us/step - loss: 0.4000 - acc: 0.8341\n",
            "Epoch 78/100\n",
            "8000/8000 [==============================] - 1s 100us/step - loss: 0.4000 - acc: 0.8347\n",
            "Epoch 79/100\n",
            "8000/8000 [==============================] - 1s 96us/step - loss: 0.3999 - acc: 0.8345\n",
            "Epoch 80/100\n",
            "8000/8000 [==============================] - 1s 96us/step - loss: 0.3994 - acc: 0.8336\n",
            "Epoch 81/100\n",
            "8000/8000 [==============================] - 1s 94us/step - loss: 0.3995 - acc: 0.8346\n",
            "Epoch 82/100\n",
            "8000/8000 [==============================] - 1s 98us/step - loss: 0.3999 - acc: 0.8349\n",
            "Epoch 83/100\n",
            "8000/8000 [==============================] - 1s 101us/step - loss: 0.3998 - acc: 0.8345\n",
            "Epoch 84/100\n",
            "8000/8000 [==============================] - 1s 110us/step - loss: 0.3995 - acc: 0.8355\n",
            "Epoch 85/100\n",
            "8000/8000 [==============================] - 1s 107us/step - loss: 0.3996 - acc: 0.8364\n",
            "Epoch 86/100\n",
            "8000/8000 [==============================] - 1s 111us/step - loss: 0.3997 - acc: 0.8355\n",
            "Epoch 87/100\n",
            "8000/8000 [==============================] - 1s 106us/step - loss: 0.3997 - acc: 0.8349\n",
            "Epoch 88/100\n",
            "8000/8000 [==============================] - 1s 109us/step - loss: 0.3994 - acc: 0.8360\n",
            "Epoch 89/100\n",
            "8000/8000 [==============================] - 1s 108us/step - loss: 0.3996 - acc: 0.8346\n",
            "Epoch 90/100\n",
            "8000/8000 [==============================] - 1s 114us/step - loss: 0.3993 - acc: 0.8349\n",
            "Epoch 91/100\n",
            "8000/8000 [==============================] - 1s 109us/step - loss: 0.3999 - acc: 0.8350\n",
            "Epoch 92/100\n",
            "8000/8000 [==============================] - 1s 106us/step - loss: 0.3992 - acc: 0.8339\n",
            "Epoch 93/100\n",
            "8000/8000 [==============================] - 1s 106us/step - loss: 0.3997 - acc: 0.8349\n",
            "Epoch 94/100\n",
            "8000/8000 [==============================] - 1s 105us/step - loss: 0.3997 - acc: 0.8354\n",
            "Epoch 95/100\n",
            "8000/8000 [==============================] - 1s 101us/step - loss: 0.3997 - acc: 0.8354\n",
            "Epoch 96/100\n",
            "8000/8000 [==============================] - 1s 94us/step - loss: 0.3995 - acc: 0.8352\n",
            "Epoch 97/100\n",
            "8000/8000 [==============================] - 1s 96us/step - loss: 0.3993 - acc: 0.8361\n",
            "Epoch 98/100\n",
            "8000/8000 [==============================] - 1s 98us/step - loss: 0.3998 - acc: 0.8362\n",
            "Epoch 99/100\n",
            "8000/8000 [==============================] - 1s 97us/step - loss: 0.3995 - acc: 0.8356\n",
            "Epoch 100/100\n",
            "8000/8000 [==============================] - 1s 95us/step - loss: 0.3991 - acc: 0.8362\n"
          ],
          "name": "stdout"
        },
        {
          "output_type": "execute_result",
          "data": {
            "text/plain": [
              "<keras.callbacks.History at 0x7f8f261ed908>"
            ]
          },
          "metadata": {
            "tags": []
          },
          "execution_count": 38
        }
      ]
    },
    {
      "metadata": {
        "trusted": true,
        "_uuid": "15dc3fbfdb623fc3bb7b7d12cec16c24b9e4bc9c",
        "id": "ksGBEMZi1AAP",
        "colab_type": "code",
        "colab": {}
      },
      "cell_type": "code",
      "source": [
        "# Now our ANN model is done and Let's predict the result.\n",
        "\n",
        "y_pred = classifier.predict(X_test)\n",
        "y_pred = (y_pred > 0.5)"
      ],
      "execution_count": 0,
      "outputs": []
    },
    {
      "metadata": {
        "trusted": true,
        "_uuid": "fd085b74a7e123238ba17a5cc1950ccc7ec3dec7",
        "id": "wKLiJNtZ1AAU",
        "colab_type": "code",
        "colab": {}
      },
      "cell_type": "code",
      "source": [
        "# Let's make the Confusion Matrix and see if this model is good enought to be delivery to client.\n",
        "\n",
        "from sklearn.metrics import confusion_matrix\n",
        "cm = confusion_matrix(y_test, y_pred)"
      ],
      "execution_count": 0,
      "outputs": []
    },
    {
      "metadata": {
        "trusted": true,
        "_uuid": "98590ce9338da17437e7175056383d3a3feb8b67",
        "id": "BNFWpyLm1AAW",
        "colab_type": "code",
        "colab": {
          "base_uri": "https://localhost:8080/",
          "height": 51
        },
        "outputId": "db28cf3c-eb29-44d2-fe3b-b2ae3edd7867"
      },
      "cell_type": "code",
      "source": [
        "cm"
      ],
      "execution_count": 41,
      "outputs": [
        {
          "output_type": "execute_result",
          "data": {
            "text/plain": [
              "array([[1535,   60],\n",
              "       [ 249,  156]])"
            ]
          },
          "metadata": {
            "tags": []
          },
          "execution_count": 41
        }
      ]
    },
    {
      "metadata": {
        "trusted": true,
        "_uuid": "08afcbcf6964a8151688e7c35758635de63fc7b7",
        "id": "L96kZHau1AAa",
        "colab_type": "code",
        "colab": {
          "base_uri": "https://localhost:8080/",
          "height": 68
        },
        "outputId": "cfe92eea-4706-4721-9ea7-06d89d75dcfc"
      },
      "cell_type": "code",
      "source": [
        "\n",
        "# evaluate the model\n",
        "scores = classifier.evaluate(X_train, y_train)\n",
        "print(\"\\n%s: %.2f%%\" % (classifier.metrics_names[1], scores[1]*100))"
      ],
      "execution_count": 42,
      "outputs": [
        {
          "output_type": "stream",
          "text": [
            "8000/8000 [==============================] - 0s 20us/step\n",
            "\n",
            "acc: 83.54%\n"
          ],
          "name": "stdout"
        }
      ]
    },
    {
      "metadata": {
        "trusted": true,
        "_uuid": "071226ab38b822d92f127a596f685d8ecb90c9db",
        "id": "nmyOqGn-1AAh",
        "colab_type": "code",
        "colab": {
          "base_uri": "https://localhost:8080/",
          "height": 34
        },
        "outputId": "5692f4d9-02cc-4865-e931-868c12f4aa4a"
      },
      "cell_type": "code",
      "source": [
        "scores"
      ],
      "execution_count": 43,
      "outputs": [
        {
          "output_type": "execute_result",
          "data": {
            "text/plain": [
              "[0.3980326288938522, 0.835375]"
            ]
          },
          "metadata": {
            "tags": []
          },
          "execution_count": 43
        }
      ]
    },
    {
      "metadata": {
        "trusted": true,
        "_uuid": "72d496cbc86a2e106a372ee15c9c28e0ce0ab9f0",
        "id": "Wsunk6Gn1AAk",
        "colab_type": "code",
        "colab": {
          "base_uri": "https://localhost:8080/",
          "height": 34
        },
        "outputId": "57546d75-4c95-42e7-f7f0-cb7d4c3db277"
      },
      "cell_type": "code",
      "source": [
        "#Accuracy\n",
        "(1545+134)/(1545+50+271+134)"
      ],
      "execution_count": 44,
      "outputs": [
        {
          "output_type": "execute_result",
          "data": {
            "text/plain": [
              "0.8395"
            ]
          },
          "metadata": {
            "tags": []
          },
          "execution_count": 44
        }
      ]
    }
  ]
}